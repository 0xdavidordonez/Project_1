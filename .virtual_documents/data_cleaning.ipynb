# Import Pandas and NumPy libraries
import pandas as pd
import numpy as np
from pathlib import Path
%matplotlib inline

# Import datetime module that comes pre-installed in Python 
# datetime offers classes that work with date & time information
import datetime as dt

# Use the pathlib library to set the Path
mainEXG_csv_path = Path("Resources/Main_exchanges_daily_avg.csv")



# Read CSV and set the header
mainEXG_df = pd.read_csv(mainEXG_csv_path) 
mainEXG_df.head()



# Use the describe() method to obtain a statistical summary about the data 
# Over the specified time period, the average adjusted close price for Amazon stock was $120.07 
# The maximum adjusted close price was $186.57
# The maximum volume of shares traded on one day were 311,346,000
mainEXG_df.describe().round(2)


import matplotlib.pyplot as plt

!pip install seaborn
import seaborn as sns

import plotly.express as px


# Plot a Line Plot Using Plotly Express
fig = px.line(title = 'Average Daily Turnover, Futures [$]')
fig.add_scatter(x = mainEXG_df['Date'], y = mainEXG_df['Date'], name = 'Futures')


mainEXG_df


# Define a function that performs interactive data visualization using Plotly Express
def plot_financial_data(df, title):
    
    fig = px.line(title = title)
    
    # For loop that plots all average daily turnover in the pandas dataframe df
    # Note that index starts with 1 because we want to skip the date column
    
    for i in df.columns[1:]:
        fig.add_scatter(x = df['Date'], y = df[i], name = i)
        fig.update_traces(line_width = 5)
        fig.update_layout({'plot_bgcolor': "white"})

    fig.show()


# Plot trading volume
plot_financial_data(mainEXG_df.iloc[:,[0,5]], 'Average Daily Turnover, Futures [$]')




































